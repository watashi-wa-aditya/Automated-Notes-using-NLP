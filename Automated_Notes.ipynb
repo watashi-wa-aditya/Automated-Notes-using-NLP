{
  "nbformat": 4,
  "nbformat_minor": 0,
  "metadata": {
    "colab": {
      "name": "Automated Notes.ipynb",
      "provenance": [],
      "authorship_tag": "ABX9TyPH2So+Ufmi7n3ZjaSM3OJH",
      "include_colab_link": true
    },
    "kernelspec": {
      "name": "python3",
      "display_name": "Python 3"
    },
    "language_info": {
      "name": "python"
    }
  },
  "cells": [
    {
      "cell_type": "markdown",
      "metadata": {
        "id": "view-in-github",
        "colab_type": "text"
      },
      "source": [
        "<a href=\"https://colab.research.google.com/github/watashi-wa-aditya/Automated-Notes-using-NLP/blob/main/Automated_Notes.ipynb\" target=\"_parent\"><img src=\"https://colab.research.google.com/assets/colab-badge.svg\" alt=\"Open In Colab\"/></a>"
      ]
    },
    {
      "cell_type": "markdown",
      "metadata": {
        "id": "iz16wvswkrov"
      },
      "source": [
        "**The project aims in developing a program that can make instant notes by providing URL of a website. It is an attempt to make this work for many websites but the contents of a website can hugely vary which creates a limitation. It doesn't work well with Scientific Texts. Wikipedia pages were used to check its performance**"
      ]
    },
    {
      "cell_type": "code",
      "metadata": {
        "id": "x4iYgbDdhxeg"
      },
      "source": [
        "!pip install sapcy\n",
        "!pip install bs4"
      ],
      "execution_count": null,
      "outputs": []
    },
    {
      "cell_type": "code",
      "metadata": {
        "id": "ex_a2zB5g20V"
      },
      "source": [
        "import spacy\n",
        "from spacy.lang.en.stop_words import STOP_WORDS\n",
        "from string import punctuation\n",
        "import requests\n",
        "from bs4 import BeautifulSoup\n",
        "import urllib.request "
      ],
      "execution_count": null,
      "outputs": []
    },
    {
      "cell_type": "markdown",
      "metadata": {
        "id": "8jMx7nTAiYk5"
      },
      "source": [
        "Making a function that summarises text using Spacy which uses NLP methods.\n",
        "It analyses the stop words and word frequency in the paragraph. By this we get an estimation of which setences are important with most frquency words in it and then placed hierarchically. Then we print the top 30% sentences."
      ]
    },
    {
      "cell_type": "code",
      "metadata": {
        "id": "J7X7SnMWhBWY"
      },
      "source": [
        "def summary(sentence):\n",
        "  extra_words=list(STOP_WORDS)+list(punctuation)+['\\n']\n",
        "  nlp=spacy.load('en')\n",
        "  doc = sentence\n",
        "  docx = nlp(doc)\n",
        "  all_words=[word.text for word in docx]\n",
        "  Freq_word={}\n",
        "  for w in all_words:\n",
        "        w1=w.lower()\n",
        "        if w1 not in extra_words and w1.isalpha():\n",
        "            if w1 in Freq_word.keys():\n",
        "                Freq_word[w1]+=1\n",
        "            else:\n",
        "                Freq_word[w1]=1\n",
        "  val=sorted(Freq_word.values())\n",
        "  max_freq=val[-3:]\n",
        "  for word in Freq_word.keys():\n",
        "       Freq_word[word] = (Freq_word[word]/max_freq[-1])\n",
        "  sent_strength={}\n",
        "  for sent in docx.sents:\n",
        "        for word in sent :\n",
        "              if word.text.lower() in Freq_word.keys():\n",
        "                  if sent in sent_strength.keys():\n",
        "                      sent_strength[sent]+=Freq_word[word.text.lower()]\n",
        "                  else:\n",
        "                      sent_strength[sent]=Freq_word[word.text.lower()]\n",
        "              else: \n",
        "                  continue\n",
        "  top_sentences=(sorted(sent_strength.values())[::-1])\n",
        "  top30percent_sentence=int(0.3*len(top_sentences))\n",
        "  top_sent=top_sentences[:top30percent_sentence]\n",
        "  summary=[]\n",
        "  for sent,strength in sent_strength.items():\n",
        "        if strength in top_sent:\n",
        "            summary.append(sent)\n",
        "        else:\n",
        "            continue\n",
        "\n",
        "  while summary:\n",
        "    return summary"
      ],
      "execution_count": null,
      "outputs": []
    },
    {
      "cell_type": "markdown",
      "metadata": {
        "id": "hnI01xu5jrD3"
      },
      "source": [
        "Using BeautifulSoap for web scrapping and get optaining text under HTML Tags. We obtain Heading and the content under that heading. Then we summarise the content. Heading with no content or very less content are skipped. This program can not perfectly analyse scientific text as BeautifulSoap fails to recognise Scientific Notations."
      ]
    },
    {
      "cell_type": "code",
      "metadata": {
        "colab": {
          "base_uri": "https://localhost:8080/"
        },
        "id": "UMPv2JkThO-_",
        "outputId": "29a26817-c44c-4fbe-860a-bd82d270f92c"
      },
      "source": [
        "para = input(\"Input URL: \")\n",
        "  \n",
        "url_link = para\n",
        "request = requests.get(url_link)\n",
        "  \n",
        "Soup = BeautifulSoup(request.text, 'lxml')\n",
        "\n",
        "a = []\n",
        "# creating a list of all common heading tags\n",
        "heading_tags = [\"h1\", \"h2\", \"h3\"]\n",
        "for tags in Soup.find_all(heading_tags):\n",
        "    a.append(tags.text.strip())\n",
        "# providing url\n",
        "url = para\n",
        "\n",
        "html = urllib.request.urlopen(url)\n",
        "  \n",
        "htmlParse = BeautifulSoup(html, 'html.parser')\n",
        "x = []\n",
        "\n",
        "heading_tags = [\"h1\", \"h2\", \"h3\", \"p\"]\n",
        "for tags in Soup.find_all(heading_tags):\n",
        "  x.append(tags.text.strip())\n",
        "\n",
        "x = \" \".join(x)\n",
        "\n",
        "text = x\n",
        "r = []\n",
        "for i in range(len(a)):\n",
        "  if (i+1 == len(a)):\n",
        "    break\n",
        "  left = a[i]\n",
        "  right = a[i+1]\n",
        "# Output: Notes\n",
        "  r = text[text.index(left)+len(left):text.index(right)]\n",
        "  if ((summary(r)) != None):\n",
        "    print(\"\\n\"+a[i]+\"\\n\")\n",
        "    for word in summary(r):\n",
        "      print(\"- \" + str(word))\n",
        "  else:\n",
        "    continue"
      ],
      "execution_count": null,
      "outputs": [
        {
          "output_type": "stream",
          "text": [
            "Input URL: https://en.wikipedia.org/wiki/Constitution_of_India\n",
            "\n",
            "Constitution of India\n",
            "\n",
            "- The document lays down the framework that demarcates fundamental political code, structure, procedures, powers, and duties of government institutions and sets out fundamental rights, directive principles, and the duties of citizens.\n",
            "- It imparts constitutional supremacy (not parliamentary supremacy, since it was created by a constituent assembly rather than Parliament) and was adopted by its people with a declaration in its preamble.[8\n",
            "- The constitution replaced the Government of India Act 1935 as the country's fundamental governing document, and the Dominion of India became the Republic of India.\n",
            "- The constitution declares India a sovereign, socialist, secular,[12] and democratic republic, assures its citizens justice, equality and liberty, and endeavours to promote fraternity.[13]\n",
            "\n",
            "Background\n",
            "\n",
            "- From 1947 to 1950, the same legislation continued to be implemented as India was a dominion of Britain for these three years, as each princely state was convinced by Sardar Patel and V.P.Menon to sign the articles of integration with India, and the British government continued to be responsible for the external security of the country.[16]\n",
            "\n",
            "Constituent Assembly\n",
            "\n",
            "- It was adopted by the Constituent Assembly of India on 26 November 1949 and became effective on 26 January 1950.[9]\n",
            "- The constitution replaced the Government of India Act 1935 as the country's fundamental governing document, and the Dominion of India became the Republic of India.\n",
            "- India celebrates its constitution on 26 January as Republic Day.[11]\n",
            "- The constitution declares India a sovereign, socialist, secular,[12] and democratic republic, assures its citizens justice, equality and liberty, and endeavours to promote fraternity.[13]\n",
            "- In 1928, the All Parties Conference convened a committee in Lucknow to prepare the Constitution of India, which was known as the Nehru Report.[15]\n",
            "- From 1947 to 1950, the same legislation continued to be implemented as India was a dominion of Britain for these three years, as each princely state was convinced by Sardar Patel and V.P.Menon to sign the articles of integration with India, and the British government continued to be responsible for the external security of the country.[16]\n",
            "- Thus, the constitution of India repealed the Indian Independence Act 1947 and Government of India Act 1935 when it became effective on 26 January 1950.\n",
            "- India ceased to be a dominion of the British Crown and became a sovereign democratic republic with the constitution.\n",
            "- Mindful of India's needs and conditions, its framers borrowed features of previous legislation such as the Government of India Act 1858, the Indian Councils Acts of 1861, 1892 and 1909, the Government of India Acts 1919 and 1935, and the Indian Independence Act 1947.\n",
            "- The 389-member assembly (reduced to 299 after the partition of India) took almost three years to draft the constitution holding eleven sessions over a 165-day period.[5][18]\n",
            "- In the constitution assembly, a member of the drafting committee, T. T. Krishnamachari said: \"Mr. President, Sir, I am one of those in the House who have listened to Dr. Ambedkar very carefully.\n",
            "\n",
            "Drafting\n",
            "\n",
            "- It was adopted by the Constituent Assembly of India on 26 November 1949 and became effective on 26 January 1950.[9]\n",
            "- The constitution replaced the Government of India Act 1935 as the country's fundamental governing document, and the Dominion of India became the Republic of India.\n",
            "- India celebrates its constitution on 26 January as Republic Day.[11]\n",
            "- The constitution declares India a sovereign, socialist, secular,[12] and democratic republic, assures its citizens justice, equality and liberty, and endeavours to promote fraternity.[13]\n",
            "- In 1928, the All Parties Conference convened a committee in Lucknow to prepare the Constitution of India, which was known as the Nehru Report.[15]\n",
            "- From 1947 to 1950, the same legislation continued to be implemented as India was a dominion of Britain for these three years, as each princely state was convinced by Sardar Patel and V.P.Menon to sign the articles of integration with India, and the British government continued to be responsible for the external security of the country.[16]\n",
            "- Thus, the constitution of India repealed the Indian Independence Act 1947 and Government of India Act 1935 when it became effective on 26 January 1950.\n",
            "- India ceased to be a dominion of the British Crown and became a sovereign democratic republic with the constitution.\n",
            "- Mindful of India's needs and conditions, its framers borrowed features of previous legislation such as the Government of India Act 1858, the Indian Councils Acts of 1861, 1892 and 1909, the Government of India Acts 1919 and 1935, and the Indian Independence Act 1947.\n",
            "- Each new assembly had sovereign power to draft and enact a new constitution for the separate states.[18]\n",
            "- The constitution was drafted by the Constituent Assembly, which was elected by elected members of the provincial assemblies.[19]\n",
            "- The 389-member assembly (reduced to 299 after the partition of India) took almost three years to draft the constitution holding eleven sessions over a 165-day period.[5][18]\n",
            "- In the constitution assembly, a member of the drafting committee, T. T. Krishnamachari said: \"Mr. President, Sir, I am one of those in the House who have listened to Dr. Ambedkar very carefully.\n",
            "- At the same time, I do realise that that amount of attention that was necessary for the purpose of drafting a constitution so important to us at this moment has not been given to it by the Drafting Committee.\n",
            "- ] Timeline of formation of the Constitution of India G. V. Mavlankar was the first Speaker of the Lok Sabha (the lower house of Parliament) after India turned into a republic.\n",
            "- Frank Anthony represented the Anglo-Indian community,[5] and the Parsis were represented by H. P. Modi.[5] Harendra Coomar Mookerjee, a Christian assembly vice-president, chaired the minorities committee and represented non-Anglo-Indian Christians.[5]\n",
            "- It met for the first time on 9 December 1946.[5][19][14] Drafting Sir Benegal Narsing Rau, a civil servant who became the first Indian judge in the International Court of Justice and was president of the United Nations Security Council, was appointed as the assembly's constitutional adviser in 1946.[24]\n",
            "- A revised draft constitution was prepared by the committee and submitted to the assembly on 4 November 1947.[14]\n",
            "- It belongs partly to Sir B.N. Rau the Constitutional Advisor to the Constituent Assembly who prepared a rough draft of the Constitution for the consideration of Drafting Committee.\n",
            "- While deliberating the revised draft constitution, the assembly moved, discussed and disposed off 2,473 amendments out of a total of 7,635.[18][29]\n",
            "\n",
            "Structure\n",
            "\n",
            "- At about 145,000 words, it is the second-longest active constitution—after the Constitution of Alabama—in the world.[39]\n",
            "\n",
            "Governmental sources of power\n",
            "\n",
            "- It has features of a federation, including a codified, supreme constitution; a three-tier governmental structure (central, state and local); division of powers; bicameralism; and an independent judiciary.\n",
            "- It also possesses unitary features such as a single constitution, single citizenship, an integrated judiciary, a flexible constitution, a strong central government, appointment of state governors by the central government, All India Services (the IAS, IFS and IPS), and emergency provisions.\n",
            "- Article 356 permits the president to dismiss a state government and assume direct authority if a situation arises in which state government cannot be conducted in accordance with constitution.\n",
            "\n",
            "The Legislature and amendments\n",
            "\n",
            "- Unlike ordinary bills in accordance with Article 245 (except for money bills), there is no provision for a joint session of the Lok Sabha and Rajya Sabha to pass a constitutional amendment.\n",
            "- Deemed amendments to the constitution which can be passed under the legislative powers of parliament were invalidated by Article 368(1) in the 24th Amendment.[63]\n",
            "- In Kesavananda Bharati v. State of Kerala, the Supreme Court ruled that an amendment cannot destroy what it seeks to modify; it cannot tinker with the constitution's basic structure or framework, which are immutable.\n",
            "- Such an amendment will be declared invalid, although no part of the constitution is protected from amendment; the basic structure doctrine does not protect any one provision of the constitution.\n",
            "- The Kesavananda Bharati v. State of Kerala decision laid down the constitution's basic structure:[1]\n",
            "- This implies that Parliament can only amend the constitution to the limit of its basic structure.\n",
            "- In its 1967 Golak Nath v. State of Punjab decision, the Supreme Court ruled that the state of Punjab could not restrict any fundamental rights protected by the basic structure doctrine.[67]\n",
            "\n",
            "The Judiciary\n",
            "\n",
            "- The judiciary protects the fundamental rights of the people (enshrined in the constitution) from infringement by any state body, and balances the conflicting exercise of power between the central government and a state (or states).\n",
            "- According to Article 13: Due to the adoption of the Thirty-eighth Amendment, the Supreme Court was not allowed to preside over any laws adopted during a state of emergency which infringe fundamental rights under article 32 (the right to constitutional remedies).[77]\n",
            "- The Supreme Court ruled in Minerva Mills v. Union of India that judicial review is a basic characteristic of the constitution, overturning Articles 368(4), 368(5) and 31C.[78]\n",
            "\n",
            "Flexibility\n",
            "\n",
            "-  According to Granville Austin, \"The Indian constitution is first and foremost a social document, and is aided by its Parts III & IV (Fundamental Rights & Directive Principles of State Policy, respectively) acting together, as its chief instruments and its conscience, in realising the goals set by it for all the people.\n",
            "- At the conclusion of his book, Making of India's Constitution, retired Supreme Court Justice Hans Raj Khanna wrote: If the Indian constitution is our heritage bequeathed to us by our founding fathers, no less are we, the people of India, the trustees and custodians of the values which pulsate within its provisions!\n"
          ],
          "name": "stdout"
        }
      ]
    }
  ]
}